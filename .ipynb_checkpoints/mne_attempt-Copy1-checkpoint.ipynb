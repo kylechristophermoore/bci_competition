{
 "cells": [
  {
   "cell_type": "code",
   "execution_count": 32,
   "id": "8b68ab7a",
   "metadata": {},
   "outputs": [],
   "source": [
    "import matplotlib\n",
    "import numpy as np\n",
    "import pandas as pd\n",
    "from scipy.io import loadmat \n",
    "import mne"
   ]
  },
  {
   "cell_type": "code",
   "execution_count": 60,
   "id": "5bff60b7",
   "metadata": {},
   "outputs": [],
   "source": [
    "dataset = loadmat('data/sp1s_aa.mat')"
   ]
  },
  {
   "cell_type": "code",
   "execution_count": 61,
   "id": "835a1089",
   "metadata": {},
   "outputs": [
    {
     "data": {
      "text/plain": [
       "dict_keys(['__header__', '__version__', '__globals__', 'clab', 'x_train', 'y_train', 'x_test'])"
      ]
     },
     "execution_count": 61,
     "metadata": {},
     "output_type": "execute_result"
    }
   ],
   "source": [
    "# check the dictionary keys to ensure correct variables loaded\n",
    "\n",
    "dataset.keys()"
   ]
  },
  {
   "cell_type": "code",
   "execution_count": 62,
   "id": "c5fbaf50",
   "metadata": {},
   "outputs": [
    {
     "name": "stdout",
     "output_type": "stream",
     "text": [
      "Shape of clab:  (1, 28)\n",
      "Shape of x_train:  (50, 28, 316)\n",
      "Shape of y_train:  (1, 316)\n",
      "Shape of x_test:  (50, 28, 100)\n"
     ]
    }
   ],
   "source": [
    "# check the shapes\n",
    "\n",
    "print('Shape of clab: ', dataset['clab'].shape)\n",
    "print('Shape of x_train: ', dataset['x_train'].shape)\n",
    "print('Shape of y_train: ', dataset['y_train'].shape)\n",
    "print('Shape of x_test: ', dataset['x_test'].shape)"
   ]
  },
  {
   "cell_type": "code",
   "execution_count": 63,
   "id": "2e22bd9d",
   "metadata": {},
   "outputs": [],
   "source": [
    "# create new variables from keys\n",
    "\n",
    "clab = dataset['clab']\n",
    "x_train = dataset['x_train']\n",
    "y_train = dataset['y_train']\n",
    "x_test = dataset['x_test']"
   ]
  },
  {
   "cell_type": "code",
   "execution_count": 64,
   "id": "814f151e",
   "metadata": {},
   "outputs": [
    {
     "data": {
      "text/plain": [
       "(316, 28, 50)"
      ]
     },
     "execution_count": 64,
     "metadata": {},
     "output_type": "execute_result"
    }
   ],
   "source": [
    "# get into correct format fro mne(trial, channels, time samples)\n",
    "\n",
    "x_train = np.moveaxis(x_train, [0,2], [2,0])\n",
    "x_train.shape"
   ]
  },
  {
   "cell_type": "code",
   "execution_count": 65,
   "id": "efa8cdbf",
   "metadata": {},
   "outputs": [
    {
     "name": "stdout",
     "output_type": "stream",
     "text": [
      "['F3', 'F1', 'Fz', 'F2', 'F4', 'FC5', 'FC3', 'FC1', 'FCz', 'FC2', 'FC4', 'FC6', 'C5', 'C3', 'C1', 'Cz', 'C2', 'C4', 'C6', 'CP5', 'CP3', 'CP1', 'CPz', 'CP2', 'CP4', 'CP6', 'O1', 'O2']\n"
     ]
    }
   ],
   "source": [
    "# list of channel names in order from documentation\n",
    "\n",
    "ch_names = [i[0] for i in clab[0]]\n",
    "\n",
    "print(ch_names)"
   ]
  },
  {
   "cell_type": "code",
   "execution_count": 66,
   "id": "b6a9ed68",
   "metadata": {},
   "outputs": [],
   "source": [
    "event_id = {'left_hand' : 0, 'right_hand' : 0}"
   ]
  },
  {
   "cell_type": "code",
   "execution_count": 67,
   "id": "87849f6e",
   "metadata": {},
   "outputs": [],
   "source": [
    "sfreq = 100"
   ]
  },
  {
   "cell_type": "code",
   "execution_count": 68,
   "id": "b5c04924",
   "metadata": {},
   "outputs": [
    {
     "name": "stdout",
     "output_type": "stream",
     "text": [
      "Event created : <Info | 8 non-empty values\n",
      " bads: []\n",
      " ch_names: F3, F1, Fz, F2, F4, FC5, FC3, FC1, FCz, FC2, FC4, FC6, C5, C3, ...\n",
      " chs: 28 EEG\n",
      " custom_ref_applied: False\n",
      " dig: 31 items (3 Cardinal, 28 EEG)\n",
      " highpass: 0.0 Hz\n",
      " lowpass: 50.0 Hz\n",
      " meas_date: unspecified\n",
      " nchan: 28\n",
      " projs: []\n",
      " sfreq: 100.0 Hz\n",
      ">\n"
     ]
    }
   ],
   "source": [
    "n_channels = len(ch_names)\n",
    "\n",
    "# Initialize an info structure\n",
    "info = mne.create_info(\n",
    "        ch_names = ch_names,\n",
    "        ch_types = ['eeg']*n_channels,\n",
    "        sfreq    = sfreq \n",
    "        )   \n",
    "\n",
    "info.set_montage('standard_1020')\n",
    "print('Event created :', info)    "
   ]
  },
  {
   "cell_type": "code",
   "execution_count": 110,
   "id": "ec59619f",
   "metadata": {},
   "outputs": [],
   "source": [
    "# Create an event matrix: events with alternating event codes\n",
    "\n",
    "eventLength = y_train.shape[1]\n",
    "ev = [(i*sfreq*.5) for i in range(eventLength)]"
   ]
  },
  {
   "cell_type": "code",
   "execution_count": 112,
   "id": "01bd4fb5",
   "metadata": {},
   "outputs": [],
   "source": [
    "events = np.column_stack((np.array(ev, dtype = int),\n",
    "                          np.zeros(eventLength,  dtype = int),\n",
    "                          np.array(y_train.reshape(316,))))"
   ]
  },
  {
   "cell_type": "code",
   "execution_count": 114,
   "id": "48cf6ec4",
   "metadata": {},
   "outputs": [
    {
     "data": {
      "text/plain": [
       "array([[    0,     0,     0],\n",
       "       [   50,     0,     1],\n",
       "       [  100,     0,     0],\n",
       "       [  150,     0,     1],\n",
       "       [  200,     0,     0],\n",
       "       [  250,     0,     1],\n",
       "       [  300,     0,     0],\n",
       "       [  350,     0,     1],\n",
       "       [  400,     0,     0],\n",
       "       [  450,     0,     0],\n",
       "       [  500,     0,     1],\n",
       "       [  550,     0,     1],\n",
       "       [  600,     0,     0],\n",
       "       [  650,     0,     0],\n",
       "       [  700,     0,     1],\n",
       "       [  750,     0,     1],\n",
       "       [  800,     0,     1],\n",
       "       [  850,     0,     0],\n",
       "       [  900,     0,     0],\n",
       "       [  950,     0,     1],\n",
       "       [ 1000,     0,     0],\n",
       "       [ 1050,     0,     0],\n",
       "       [ 1100,     0,     1],\n",
       "       [ 1150,     0,     0],\n",
       "       [ 1200,     0,     1],\n",
       "       [ 1250,     0,     0],\n",
       "       [ 1300,     0,     0],\n",
       "       [ 1350,     0,     0],\n",
       "       [ 1400,     0,     0],\n",
       "       [ 1450,     0,     0],\n",
       "       [ 1500,     0,     0],\n",
       "       [ 1550,     0,     0],\n",
       "       [ 1600,     0,     1],\n",
       "       [ 1650,     0,     1],\n",
       "       [ 1700,     0,     1],\n",
       "       [ 1750,     0,     1],\n",
       "       [ 1800,     0,     1],\n",
       "       [ 1850,     0,     1],\n",
       "       [ 1900,     0,     0],\n",
       "       [ 1950,     0,     1],\n",
       "       [ 2000,     0,     0],\n",
       "       [ 2050,     0,     1],\n",
       "       [ 2100,     0,     0],\n",
       "       [ 2150,     0,     0],\n",
       "       [ 2200,     0,     1],\n",
       "       [ 2250,     0,     0],\n",
       "       [ 2300,     0,     1],\n",
       "       [ 2350,     0,     1],\n",
       "       [ 2400,     0,     0],\n",
       "       [ 2450,     0,     1],\n",
       "       [ 2500,     0,     1],\n",
       "       [ 2550,     0,     0],\n",
       "       [ 2600,     0,     0],\n",
       "       [ 2650,     0,     1],\n",
       "       [ 2700,     0,     0],\n",
       "       [ 2750,     0,     0],\n",
       "       [ 2800,     0,     1],\n",
       "       [ 2850,     0,     0],\n",
       "       [ 2900,     0,     1],\n",
       "       [ 2950,     0,     0],\n",
       "       [ 3000,     0,     1],\n",
       "       [ 3050,     0,     0],\n",
       "       [ 3100,     0,     0],\n",
       "       [ 3150,     0,     1],\n",
       "       [ 3200,     0,     0],\n",
       "       [ 3250,     0,     0],\n",
       "       [ 3300,     0,     0],\n",
       "       [ 3350,     0,     0],\n",
       "       [ 3400,     0,     0],\n",
       "       [ 3450,     0,     1],\n",
       "       [ 3500,     0,     0],\n",
       "       [ 3550,     0,     1],\n",
       "       [ 3600,     0,     0],\n",
       "       [ 3650,     0,     0],\n",
       "       [ 3700,     0,     0],\n",
       "       [ 3750,     0,     0],\n",
       "       [ 3800,     0,     0],\n",
       "       [ 3850,     0,     1],\n",
       "       [ 3900,     0,     1],\n",
       "       [ 3950,     0,     1],\n",
       "       [ 4000,     0,     0],\n",
       "       [ 4050,     0,     1],\n",
       "       [ 4100,     0,     0],\n",
       "       [ 4150,     0,     1],\n",
       "       [ 4200,     0,     1],\n",
       "       [ 4250,     0,     1],\n",
       "       [ 4300,     0,     1],\n",
       "       [ 4350,     0,     1],\n",
       "       [ 4400,     0,     1],\n",
       "       [ 4450,     0,     1],\n",
       "       [ 4500,     0,     1],\n",
       "       [ 4550,     0,     1],\n",
       "       [ 4600,     0,     0],\n",
       "       [ 4650,     0,     0],\n",
       "       [ 4700,     0,     0],\n",
       "       [ 4750,     0,     0],\n",
       "       [ 4800,     0,     1],\n",
       "       [ 4850,     0,     1],\n",
       "       [ 4900,     0,     1],\n",
       "       [ 4950,     0,     0],\n",
       "       [ 5000,     0,     1],\n",
       "       [ 5050,     0,     1],\n",
       "       [ 5100,     0,     1],\n",
       "       [ 5150,     0,     0],\n",
       "       [ 5200,     0,     1],\n",
       "       [ 5250,     0,     0],\n",
       "       [ 5300,     0,     1],\n",
       "       [ 5350,     0,     1],\n",
       "       [ 5400,     0,     1],\n",
       "       [ 5450,     0,     0],\n",
       "       [ 5500,     0,     1],\n",
       "       [ 5550,     0,     0],\n",
       "       [ 5600,     0,     1],\n",
       "       [ 5650,     0,     0],\n",
       "       [ 5700,     0,     0],\n",
       "       [ 5750,     0,     0],\n",
       "       [ 5800,     0,     1],\n",
       "       [ 5850,     0,     0],\n",
       "       [ 5900,     0,     0],\n",
       "       [ 5950,     0,     1],\n",
       "       [ 6000,     0,     1],\n",
       "       [ 6050,     0,     1],\n",
       "       [ 6100,     0,     1],\n",
       "       [ 6150,     0,     0],\n",
       "       [ 6200,     0,     1],\n",
       "       [ 6250,     0,     1],\n",
       "       [ 6300,     0,     0],\n",
       "       [ 6350,     0,     0],\n",
       "       [ 6400,     0,     1],\n",
       "       [ 6450,     0,     1],\n",
       "       [ 6500,     0,     1],\n",
       "       [ 6550,     0,     1],\n",
       "       [ 6600,     0,     1],\n",
       "       [ 6650,     0,     0],\n",
       "       [ 6700,     0,     0],\n",
       "       [ 6750,     0,     0],\n",
       "       [ 6800,     0,     0],\n",
       "       [ 6850,     0,     1],\n",
       "       [ 6900,     0,     1],\n",
       "       [ 6950,     0,     0],\n",
       "       [ 7000,     0,     1],\n",
       "       [ 7050,     0,     1],\n",
       "       [ 7100,     0,     1],\n",
       "       [ 7150,     0,     1],\n",
       "       [ 7200,     0,     1],\n",
       "       [ 7250,     0,     1],\n",
       "       [ 7300,     0,     1],\n",
       "       [ 7350,     0,     0],\n",
       "       [ 7400,     0,     0],\n",
       "       [ 7450,     0,     0],\n",
       "       [ 7500,     0,     1],\n",
       "       [ 7550,     0,     1],\n",
       "       [ 7600,     0,     0],\n",
       "       [ 7650,     0,     0],\n",
       "       [ 7700,     0,     1],\n",
       "       [ 7750,     0,     1],\n",
       "       [ 7800,     0,     0],\n",
       "       [ 7850,     0,     0],\n",
       "       [ 7900,     0,     0],\n",
       "       [ 7950,     0,     0],\n",
       "       [ 8000,     0,     0],\n",
       "       [ 8050,     0,     1],\n",
       "       [ 8100,     0,     1],\n",
       "       [ 8150,     0,     1],\n",
       "       [ 8200,     0,     1],\n",
       "       [ 8250,     0,     1],\n",
       "       [ 8300,     0,     1],\n",
       "       [ 8350,     0,     0],\n",
       "       [ 8400,     0,     1],\n",
       "       [ 8450,     0,     0],\n",
       "       [ 8500,     0,     1],\n",
       "       [ 8550,     0,     1],\n",
       "       [ 8600,     0,     0],\n",
       "       [ 8650,     0,     1],\n",
       "       [ 8700,     0,     0],\n",
       "       [ 8750,     0,     0],\n",
       "       [ 8800,     0,     1],\n",
       "       [ 8850,     0,     1],\n",
       "       [ 8900,     0,     1],\n",
       "       [ 8950,     0,     0],\n",
       "       [ 9000,     0,     0],\n",
       "       [ 9050,     0,     1],\n",
       "       [ 9100,     0,     0],\n",
       "       [ 9150,     0,     0],\n",
       "       [ 9200,     0,     0],\n",
       "       [ 9250,     0,     0],\n",
       "       [ 9300,     0,     0],\n",
       "       [ 9350,     0,     1],\n",
       "       [ 9400,     0,     1],\n",
       "       [ 9450,     0,     0],\n",
       "       [ 9500,     0,     0],\n",
       "       [ 9550,     0,     0],\n",
       "       [ 9600,     0,     0],\n",
       "       [ 9650,     0,     1],\n",
       "       [ 9700,     0,     0],\n",
       "       [ 9750,     0,     0],\n",
       "       [ 9800,     0,     0],\n",
       "       [ 9850,     0,     1],\n",
       "       [ 9900,     0,     0],\n",
       "       [ 9950,     0,     0],\n",
       "       [10000,     0,     1],\n",
       "       [10050,     0,     0],\n",
       "       [10100,     0,     0],\n",
       "       [10150,     0,     0],\n",
       "       [10200,     0,     1],\n",
       "       [10250,     0,     1],\n",
       "       [10300,     0,     1],\n",
       "       [10350,     0,     0],\n",
       "       [10400,     0,     0],\n",
       "       [10450,     0,     0],\n",
       "       [10500,     0,     1],\n",
       "       [10550,     0,     1],\n",
       "       [10600,     0,     1],\n",
       "       [10650,     0,     0],\n",
       "       [10700,     0,     0],\n",
       "       [10750,     0,     0],\n",
       "       [10800,     0,     1],\n",
       "       [10850,     0,     0],\n",
       "       [10900,     0,     1],\n",
       "       [10950,     0,     1],\n",
       "       [11000,     0,     1],\n",
       "       [11050,     0,     1],\n",
       "       [11100,     0,     1],\n",
       "       [11150,     0,     1],\n",
       "       [11200,     0,     1],\n",
       "       [11250,     0,     0],\n",
       "       [11300,     0,     1],\n",
       "       [11350,     0,     0],\n",
       "       [11400,     0,     0],\n",
       "       [11450,     0,     0],\n",
       "       [11500,     0,     1],\n",
       "       [11550,     0,     0],\n",
       "       [11600,     0,     1],\n",
       "       [11650,     0,     1],\n",
       "       [11700,     0,     1],\n",
       "       [11750,     0,     0],\n",
       "       [11800,     0,     1],\n",
       "       [11850,     0,     1],\n",
       "       [11900,     0,     0],\n",
       "       [11950,     0,     0],\n",
       "       [12000,     0,     0],\n",
       "       [12050,     0,     1],\n",
       "       [12100,     0,     1],\n",
       "       [12150,     0,     0],\n",
       "       [12200,     0,     1],\n",
       "       [12250,     0,     1],\n",
       "       [12300,     0,     0],\n",
       "       [12350,     0,     1],\n",
       "       [12400,     0,     1],\n",
       "       [12450,     0,     1],\n",
       "       [12500,     0,     1],\n",
       "       [12550,     0,     1],\n",
       "       [12600,     0,     0],\n",
       "       [12650,     0,     1],\n",
       "       [12700,     0,     0],\n",
       "       [12750,     0,     1],\n",
       "       [12800,     0,     0],\n",
       "       [12850,     0,     0],\n",
       "       [12900,     0,     0],\n",
       "       [12950,     0,     0],\n",
       "       [13000,     0,     0],\n",
       "       [13050,     0,     0],\n",
       "       [13100,     0,     1],\n",
       "       [13150,     0,     1],\n",
       "       [13200,     0,     1],\n",
       "       [13250,     0,     0],\n",
       "       [13300,     0,     1],\n",
       "       [13350,     0,     1],\n",
       "       [13400,     0,     1],\n",
       "       [13450,     0,     0],\n",
       "       [13500,     0,     1],\n",
       "       [13550,     0,     0],\n",
       "       [13600,     0,     0],\n",
       "       [13650,     0,     1],\n",
       "       [13700,     0,     1],\n",
       "       [13750,     0,     0],\n",
       "       [13800,     0,     0],\n",
       "       [13850,     0,     1],\n",
       "       [13900,     0,     0],\n",
       "       [13950,     0,     0],\n",
       "       [14000,     0,     1],\n",
       "       [14050,     0,     0],\n",
       "       [14100,     0,     0],\n",
       "       [14150,     0,     0],\n",
       "       [14200,     0,     1],\n",
       "       [14250,     0,     0],\n",
       "       [14300,     0,     0],\n",
       "       [14350,     0,     1],\n",
       "       [14400,     0,     1],\n",
       "       [14450,     0,     0],\n",
       "       [14500,     0,     0],\n",
       "       [14550,     0,     1],\n",
       "       [14600,     0,     1],\n",
       "       [14650,     0,     1],\n",
       "       [14700,     0,     0],\n",
       "       [14750,     0,     1],\n",
       "       [14800,     0,     0],\n",
       "       [14850,     0,     1],\n",
       "       [14900,     0,     1],\n",
       "       [14950,     0,     1],\n",
       "       [15000,     0,     0],\n",
       "       [15050,     0,     1],\n",
       "       [15100,     0,     1],\n",
       "       [15150,     0,     0],\n",
       "       [15200,     0,     1],\n",
       "       [15250,     0,     0],\n",
       "       [15300,     0,     0],\n",
       "       [15350,     0,     0],\n",
       "       [15400,     0,     0],\n",
       "       [15450,     0,     0],\n",
       "       [15500,     0,     0],\n",
       "       [15550,     0,     0],\n",
       "       [15600,     0,     0],\n",
       "       [15650,     0,     0],\n",
       "       [15700,     0,     0],\n",
       "       [15750,     0,     0]])"
      ]
     },
     "execution_count": 114,
     "metadata": {},
     "output_type": "execute_result"
    }
   ],
   "source": [
    "events"
   ]
  },
  {
   "cell_type": "code",
   "execution_count": 115,
   "id": "4499d14d",
   "metadata": {
    "scrolled": false
   },
   "outputs": [
    {
     "data": {
      "text/plain": [
       "(316, 3)"
      ]
     },
     "execution_count": 115,
     "metadata": {},
     "output_type": "execute_result"
    }
   ],
   "source": [
    "events.shape"
   ]
  },
  {
   "cell_type": "code",
   "execution_count": 116,
   "id": "fadc9f0c",
   "metadata": {},
   "outputs": [],
   "source": [
    "tmin = 0"
   ]
  },
  {
   "cell_type": "code",
   "execution_count": 122,
   "id": "3bc6986f",
   "metadata": {
    "scrolled": false
   },
   "outputs": [
    {
     "name": "stdout",
     "output_type": "stream",
     "text": [
      "Not setting metadata\n",
      "Not setting metadata\n",
      "159 matching events found\n"
     ]
    },
    {
     "ename": "ValueError",
     "evalue": "The number of epochs and the number of events must match",
     "output_type": "error",
     "traceback": [
      "\u001b[0;31m---------------------------------------------------------------------------\u001b[0m",
      "\u001b[0;31mValueError\u001b[0m                                Traceback (most recent call last)",
      "\u001b[0;32m/var/folders/wz/vjgpxc797rsbh0x_pp46kdmr0000gn/T/ipykernel_10117/1497546271.py\u001b[0m in \u001b[0;36m<module>\u001b[0;34m\u001b[0m\n\u001b[0;32m----> 1\u001b[0;31m \u001b[0mepochs\u001b[0m \u001b[0;34m=\u001b[0m \u001b[0mmne\u001b[0m\u001b[0;34m.\u001b[0m\u001b[0mEpochsArray\u001b[0m\u001b[0;34m(\u001b[0m\u001b[0mx_train\u001b[0m\u001b[0;34m,\u001b[0m \u001b[0minfo\u001b[0m\u001b[0;34m,\u001b[0m \u001b[0mevents\u001b[0m\u001b[0;34m,\u001b[0m \u001b[0mtmin\u001b[0m\u001b[0;34m,\u001b[0m \u001b[0mevent_id\u001b[0m\u001b[0;34m)\u001b[0m\u001b[0;34m\u001b[0m\u001b[0;34m\u001b[0m\u001b[0m\n\u001b[0m",
      "\u001b[0;32m<decorator-gen-245>\u001b[0m in \u001b[0;36m__init__\u001b[0;34m(self, data, info, events, tmin, event_id, reject, flat, reject_tmin, reject_tmax, baseline, proj, on_missing, metadata, selection, verbose)\u001b[0m\n",
      "\u001b[0;32m/opt/anaconda3/lib/python3.8/site-packages/mne/epochs.py\u001b[0m in \u001b[0;36m__init__\u001b[0;34m(self, data, info, events, tmin, event_id, reject, flat, reject_tmin, reject_tmax, baseline, proj, on_missing, metadata, selection, verbose)\u001b[0m\n\u001b[1;32m   2726\u001b[0m         \u001b[0minfo\u001b[0m \u001b[0;34m=\u001b[0m \u001b[0minfo\u001b[0m\u001b[0;34m.\u001b[0m\u001b[0mcopy\u001b[0m\u001b[0;34m(\u001b[0m\u001b[0;34m)\u001b[0m  \u001b[0;31m# do not modify original info\u001b[0m\u001b[0;34m\u001b[0m\u001b[0;34m\u001b[0m\u001b[0m\n\u001b[1;32m   2727\u001b[0m         \u001b[0mtmax\u001b[0m \u001b[0;34m=\u001b[0m \u001b[0;34m(\u001b[0m\u001b[0mdata\u001b[0m\u001b[0;34m.\u001b[0m\u001b[0mshape\u001b[0m\u001b[0;34m[\u001b[0m\u001b[0;36m2\u001b[0m\u001b[0;34m]\u001b[0m \u001b[0;34m-\u001b[0m \u001b[0;36m1\u001b[0m\u001b[0;34m)\u001b[0m \u001b[0;34m/\u001b[0m \u001b[0minfo\u001b[0m\u001b[0;34m[\u001b[0m\u001b[0;34m'sfreq'\u001b[0m\u001b[0;34m]\u001b[0m \u001b[0;34m+\u001b[0m \u001b[0mtmin\u001b[0m\u001b[0;34m\u001b[0m\u001b[0;34m\u001b[0m\u001b[0m\n\u001b[0;32m-> 2728\u001b[0;31m         super(EpochsArray, self).__init__(\n\u001b[0m\u001b[1;32m   2729\u001b[0m             \u001b[0minfo\u001b[0m\u001b[0;34m,\u001b[0m \u001b[0mdata\u001b[0m\u001b[0;34m,\u001b[0m \u001b[0mevents\u001b[0m\u001b[0;34m,\u001b[0m \u001b[0mevent_id\u001b[0m\u001b[0;34m,\u001b[0m \u001b[0mtmin\u001b[0m\u001b[0;34m,\u001b[0m \u001b[0mtmax\u001b[0m\u001b[0;34m,\u001b[0m \u001b[0mbaseline\u001b[0m\u001b[0;34m,\u001b[0m \u001b[0mreject\u001b[0m\u001b[0;34m=\u001b[0m\u001b[0mreject\u001b[0m\u001b[0;34m,\u001b[0m\u001b[0;34m\u001b[0m\u001b[0;34m\u001b[0m\u001b[0m\n\u001b[1;32m   2730\u001b[0m             \u001b[0mflat\u001b[0m\u001b[0;34m=\u001b[0m\u001b[0mflat\u001b[0m\u001b[0;34m,\u001b[0m \u001b[0mreject_tmin\u001b[0m\u001b[0;34m=\u001b[0m\u001b[0mreject_tmin\u001b[0m\u001b[0;34m,\u001b[0m \u001b[0mreject_tmax\u001b[0m\u001b[0;34m=\u001b[0m\u001b[0mreject_tmax\u001b[0m\u001b[0;34m,\u001b[0m\u001b[0;34m\u001b[0m\u001b[0;34m\u001b[0m\u001b[0m\n",
      "\u001b[0;32m<decorator-gen-231>\u001b[0m in \u001b[0;36m__init__\u001b[0;34m(self, info, data, events, event_id, tmin, tmax, baseline, raw, picks, reject, flat, decim, reject_tmin, reject_tmax, detrend, proj, on_missing, preload_at_end, selection, drop_log, filename, metadata, event_repeated, verbose)\u001b[0m\n",
      "\u001b[0;32m/opt/anaconda3/lib/python3.8/site-packages/mne/epochs.py\u001b[0m in \u001b[0;36m__init__\u001b[0;34m(***failed resolving arguments***)\u001b[0m\n\u001b[1;32m    484\u001b[0m                 \u001b[0;32mraise\u001b[0m \u001b[0mRuntimeError\u001b[0m\u001b[0;34m(\u001b[0m\u001b[0;34m'bad data shape'\u001b[0m\u001b[0;34m)\u001b[0m\u001b[0;34m\u001b[0m\u001b[0;34m\u001b[0m\u001b[0m\n\u001b[1;32m    485\u001b[0m             \u001b[0;32mif\u001b[0m \u001b[0mdata\u001b[0m\u001b[0;34m.\u001b[0m\u001b[0mshape\u001b[0m\u001b[0;34m[\u001b[0m\u001b[0;36m0\u001b[0m\u001b[0;34m]\u001b[0m \u001b[0;34m!=\u001b[0m \u001b[0mlen\u001b[0m\u001b[0;34m(\u001b[0m\u001b[0mself\u001b[0m\u001b[0;34m.\u001b[0m\u001b[0mevents\u001b[0m\u001b[0;34m)\u001b[0m\u001b[0;34m:\u001b[0m\u001b[0;34m\u001b[0m\u001b[0;34m\u001b[0m\u001b[0m\n\u001b[0;32m--> 486\u001b[0;31m                 raise ValueError(\n\u001b[0m\u001b[1;32m    487\u001b[0m                     'The number of epochs and the number of events must match')\n\u001b[1;32m    488\u001b[0m             \u001b[0mself\u001b[0m\u001b[0;34m.\u001b[0m\u001b[0mpreload\u001b[0m \u001b[0;34m=\u001b[0m \u001b[0;32mTrue\u001b[0m\u001b[0;34m\u001b[0m\u001b[0;34m\u001b[0m\u001b[0m\n",
      "\u001b[0;31mValueError\u001b[0m: The number of epochs and the number of events must match"
     ]
    }
   ],
   "source": [
    "epochs = mne.EpochsArray(x_train, info, events, tmin, event_id)"
   ]
  },
  {
   "cell_type": "code",
   "execution_count": 124,
   "id": "1bb7b7b6",
   "metadata": {},
   "outputs": [
    {
     "name": "stdout",
     "output_type": "stream",
     "text": [
      "Not setting metadata\n",
      "Not setting metadata\n",
      "316 matching events found\n",
      "No baseline correction applied\n",
      "0 projection items activated\n",
      "0 bad epochs dropped\n"
     ]
    }
   ],
   "source": [
    "epochs = mne.EpochsArray(x_train, info)"
   ]
  },
  {
   "cell_type": "code",
   "execution_count": 125,
   "id": "80225df3",
   "metadata": {},
   "outputs": [
    {
     "data": {
      "image/png": "[encoded data removed]",
      "text/plain": [
       "<Figure size 460.8x216 with 1 Axes>"
      ]
     },
     "metadata": {
      "needs_background": "light"
     },
     "output_type": "display_data"
    }
   ],
   "source": [
    "epochs.average().plot();"
   ]
  },
  {
   "cell_type": "code",
   "execution_count": null,
   "id": "362266ca",
   "metadata": {},
   "outputs": [],
   "source": []
  }
 ],
 "metadata": {
  "kernelspec": {
   "display_name": "Python 3 (ipykernel)",
   "language": "python",
   "name": "python3"
  },
  "language_info": {
   "codemirror_mode": {
    "name": "ipython",
    "version": 3
   },
   "file_extension": ".py",
   "mimetype": "text/x-python",
   "name": "python",
   "nbconvert_exporter": "python",
   "pygments_lexer": "ipython3",
   "version": "3.8.3"
  }
 },
 "nbformat": 4,
 "nbformat_minor": 5
}
